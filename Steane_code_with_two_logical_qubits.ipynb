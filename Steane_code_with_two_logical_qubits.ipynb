{
 "cells": [
  {
   "cell_type": "markdown",
   "metadata": {},
   "source": [
    "Steane code pipecleaning\n",
    "=====================\n",
    "\n",
    "1. Set up logical zero for Steane code based on Preskill at http://theory.caltech.edu/~preskill/pubs/preskill-1998-reliable.pdf\n",
    "\n",
    "2. Perform a logical Hadamard\n",
    "\n",
    "3. Peform a logical CX to entangle the two logical qubits\n",
    "\n",
    "4. Set up ancilla based on the book by Nielsen MA, Chuang IL. Quantum Computation and Quantum Information, 10th Anniversary Edition. Cambridge University Press; 2016. p. 474\n",
    "\n",
    "5. Reverse the set up\n",
    "\n",
    "**This is part of a \"pipe-cleaning\" exercise for an MSc Masters project.  The aim is to check that there are no issues with setting up the Steane code on Quiskit.  Please note that a full evaluation has not yet been carried out.  There may be some undetected errors.  Please use at your own risk**"
   ]
  },
  {
   "cell_type": "markdown",
   "metadata": {},
   "source": [
    "Import the necessary function modules."
   ]
  },
  {
   "cell_type": "code",
   "execution_count": 1,
   "metadata": {},
   "outputs": [],
   "source": [
    "from qiskit import(\n",
    "  QuantumCircuit,\n",
    "  QuantumRegister,\n",
    "  ClassicalRegister,\n",
    "  execute,\n",
    "  Aer)\n",
    "\n",
    "from qiskit.providers.aer.noise import NoiseModel\n",
    "from qiskit.providers.aer.noise.errors import pauli_error, depolarizing_error"
   ]
  },
  {
   "cell_type": "markdown",
   "metadata": {},
   "source": [
    "Declare constants to control the process flow to be carried out"
   ]
  },
  {
   "cell_type": "code",
   "execution_count": 2,
   "metadata": {},
   "outputs": [],
   "source": [
    "SECOND_LOGICAL = False\n",
    "\n",
    "FIRST_LOGICAL_ONE = False        #Logical One on first qubit?\n",
    "SECOND_LOGICAL_ONE = False       #Logical One on second qubit?\n",
    "\n",
    "FIRST_LOGICAL_X = False          #Apply logical X operation? \n",
    "SECOND_LOGICAL_X = False         #Apply logical X operation? \n",
    "\n",
    "FIRST_REVERSE = False             #Reverse the first logical qubit\n",
    "SECOND_REVERSE = False            #Reverse the first logical qubit\n",
    "\n",
    "FIRST_HADAMARD = False            #Hadamard on first logical qbit\n",
    "SECOND_HADAMARD = False          #Hadamard on second logical qbit\n",
    "\n",
    "LOGICAL_CX = False                #Logical CX\n",
    "\n",
    "ANCILLA_CHECKS = False            #Ancillas are active?\n",
    "TESTING = False                  #Test by applying and X or Z error to one of the qubits\n",
    "\n",
    "NOISE = False                     #Test with noise\n",
    "SHOTS = 1000                     #Number of shots to run    \n",
    "MEASURE_NOISE = 0.0000001         #Measurement noise\n",
    "GATE_NOISE = 0.0003              #Gate noise\n",
    "\n",
    "SIMULATOR = Aer.get_backend('qasm_simulator')"
   ]
  },
  {
   "cell_type": "markdown",
   "metadata": {},
   "source": [
    "Initialise the ancilla and code bits, and the classical registers for measurement."
   ]
  },
  {
   "cell_type": "code",
   "execution_count": 3,
   "metadata": {},
   "outputs": [],
   "source": [
    "ca = QuantumRegister(6,'ancilla1') # initialize ancilla bits with six qubits in the 0 state\n",
    "cb = QuantumRegister(7,'logical_1') # initialize code bits with seven qubits in the 0 state\n",
    "\n",
    "if SECOND_LOGICAL:\n",
    "    cc = QuantumRegister(6,'ancilla2') # initialize ancilla bits with six qubits in the 0 state\n",
    "    cd = QuantumRegister(7,'logical_2') # initialize code bits with seven qubits in the 0 state\n",
    "    \n",
    "sa = ClassicalRegister(6,'measure_ancilla_1') # six measurement bit for the code   \n",
    "sb = ClassicalRegister(7,'measure_code1') # seven measurement bit for the code    \n",
    "\n",
    "if SECOND_LOGICAL:\n",
    "    sc = ClassicalRegister(6,'measure_ancilla_2') # six measurement bit for the code   \n",
    "    sd = ClassicalRegister(7,'measure_code3') # seven measurement bit for the code \n",
    "\n",
    "if SECOND_LOGICAL:\n",
    "    qc = QuantumCircuit(cb, ca, cc, cd , sb, sa, sc, sd)\n",
    "else:\n",
    "    qc = QuantumCircuit(cb, ca, sb, sa)"
   ]
  },
  {
   "cell_type": "markdown",
   "metadata": {},
   "source": [
    "Initialise logical_qubit2 to logical zero or logical one"
   ]
  },
  {
   "cell_type": "code",
   "execution_count": 4,
   "metadata": {},
   "outputs": [
    {
     "data": {
      "text/plain": [
       "<qiskit.circuit.instructionset.InstructionSet at 0x210fe1691f0>"
      ]
     },
     "execution_count": 4,
     "metadata": {},
     "output_type": "execute_result"
    }
   ],
   "source": [
    "#logical zero\n",
    "#Set last qubit to 1 if this is a logical one.\n",
    "if FIRST_LOGICAL_ONE:\n",
    "    qc.x(cb[6])\n",
    "    \n",
    "#prepare the state a|0000000>+b|0000111>\n",
    "qc.cx(cb[6],cb[4])\n",
    "qc.cx(cb[6],cb[5])\n",
    "\n",
    "# set first three qubits in superposition    \n",
    "qc.h(cb[0])\n",
    "qc.h(cb[1])\n",
    "qc.h(cb[2])\n",
    "\n",
    "#parity checks on first qubit\n",
    "qc.cx(cb[0],cb[3])\n",
    "qc.cx(cb[0],cb[5])\n",
    "qc.cx(cb[0],cb[6])\n",
    "\n",
    "#parity checks on second qubit\n",
    "qc.cx(cb[1],cb[3])\n",
    "qc.cx(cb[1],cb[4])\n",
    "qc.cx(cb[1],cb[6])\n",
    "\n",
    "#parity checks on third qubit\n",
    "qc.cx(cb[2],cb[3])\n",
    "qc.cx(cb[2],cb[4])\n",
    "qc.cx(cb[2],cb[5])\n",
    "\n",
    "qc.barrier(cb)"
   ]
  },
  {
   "cell_type": "markdown",
   "metadata": {},
   "source": [
    "Initialise logical_qubit2 to logical zero or logical one"
   ]
  },
  {
   "cell_type": "code",
   "execution_count": 5,
   "metadata": {},
   "outputs": [],
   "source": [
    "#logical zero\n",
    "#Set last qubit to 1 if this is a logical one.\n",
    "if SECOND_LOGICAL:\n",
    "    if SECOND_LOGICAL_ONE:\n",
    "        qc.x(cd[6])\n",
    "\n",
    "    #prepare the state a|0000000>+b|0000111>\n",
    "    qc.cx(cd[6],cd[4])\n",
    "    qc.cx(cd[6],cd[5])\n",
    "\n",
    "    # set first three qubits in superposition    \n",
    "    qc.h(cd[0])\n",
    "    qc.h(cd[1])\n",
    "    qc.h(cd[2])\n",
    "\n",
    "    #parity checks on first qubit\n",
    "    qc.cx(cd[0],cd[3])\n",
    "    qc.cx(cd[0],cd[5])\n",
    "    qc.cx(cd[0],cd[6])\n",
    "\n",
    "    #parity checks on second qubit\n",
    "    qc.cx(cd[1],cd[3])\n",
    "    qc.cx(cd[1],cd[4])\n",
    "    qc.cx(cd[1],cd[6])\n",
    "\n",
    "    #parity checks on third qubit\n",
    "    qc.cx(cd[2],cd[3])\n",
    "    qc.cx(cd[2],cd[4])\n",
    "    qc.cx(cd[2],cd[5])\n",
    "\n",
    "    qc.barrier(cd)"
   ]
  },
  {
   "cell_type": "markdown",
   "metadata": {},
   "source": [
    "We can test that an x or z error correctly updates the ancillas to show and error has occurred."
   ]
  },
  {
   "cell_type": "code",
   "execution_count": 6,
   "metadata": {},
   "outputs": [],
   "source": [
    "#testing - x z error in first qubit\n",
    "if TESTING:\n",
    "    qc.x(cb[2])\n",
    "    qc.z(cb[2])\n",
    "    qc.x(cd[2])\n",
    "    qc.z(cd[2])"
   ]
  },
  {
   "cell_type": "markdown",
   "metadata": {},
   "source": [
    "If requested apply a logical X to either logical qubit"
   ]
  },
  {
   "cell_type": "code",
   "execution_count": 7,
   "metadata": {},
   "outputs": [],
   "source": [
    "#apply logical x gate\n",
    "if FIRST_LOGICAL_X:\n",
    "    for index in range (7):\n",
    "        qc.x(cb[index])\n",
    "    qc.barrier(cb)\n",
    "        \n",
    "#apply logical x gate\n",
    "if SECOND_LOGICAL_X:\n",
    "    for index in range (7):\n",
    "        qc.x(cd[index])\n",
    "    qc.barrier(cd)"
   ]
  },
  {
   "cell_type": "markdown",
   "metadata": {},
   "source": [
    "If requested apply a logical H"
   ]
  },
  {
   "cell_type": "code",
   "execution_count": 8,
   "metadata": {},
   "outputs": [],
   "source": [
    "if FIRST_HADAMARD:\n",
    "    for index in range (7):\n",
    "        qc.h(cb[index])\n",
    "    qc.barrier()\n",
    "        \n",
    "if SECOND_HADAMARD:\n",
    "    for index in range (7):\n",
    "        qc.h(cd[index])\n",
    "    qc.barrier()"
   ]
  },
  {
   "cell_type": "code",
   "execution_count": 9,
   "metadata": {},
   "outputs": [],
   "source": [
    "if LOGICAL_CX:\n",
    "    for index in range (7):\n",
    "        qc.cx(cb[index],cd[index])\n",
    "    qc.barrier()"
   ]
  },
  {
   "cell_type": "markdown",
   "metadata": {},
   "source": [
    "Set up ancilla checks"
   ]
  },
  {
   "cell_type": "code",
   "execution_count": 10,
   "metadata": {},
   "outputs": [],
   "source": [
    "if ANCILLA_CHECKS:\n",
    "    # Hadamard each ancilla bit\n",
    "    for index in range (6):\n",
    "        qc.h(ca[index])\n",
    "        \n",
    "    qc.cx(ca[0],cb[0])\n",
    "    qc.cx(ca[0],cb[3])\n",
    "    qc.cx(ca[0],cb[5])\n",
    "    qc.cx(ca[0],cb[6])\n",
    "    \n",
    "    qc.cx(ca[1],cb[1])\n",
    "    qc.cx(ca[1],cb[3])\n",
    "    qc.cx(ca[1],cb[4])\n",
    "    qc.cx(ca[1],cb[6])    \n",
    "    \n",
    "    qc.cx(ca[2],cb[2])\n",
    "    qc.cx(ca[2],cb[3])\n",
    "    qc.cx(ca[2],cb[4])\n",
    "    qc.cx(ca[2],cb[5])   \n",
    "    \n",
    "    qc.cz(ca[3],cb[0])\n",
    "    qc.cz(ca[3],cb[2])\n",
    "    qc.cz(ca[3],cb[4])\n",
    "    qc.cz(ca[3],cb[6])\n",
    "    \n",
    "    qc.cz(ca[4],cb[1])\n",
    "    qc.cz(ca[4],cb[2])\n",
    "    qc.cz(ca[4],cb[5])\n",
    "    qc.cz(ca[4],cb[6])\n",
    "    \n",
    "    qc.cz(ca[5],cb[0])\n",
    "    qc.cz(ca[5],cb[1])\n",
    "    qc.cz(ca[5],cb[2])\n",
    "    qc.cz(ca[5],cb[3])\n",
    "    \n",
    "    for index in range (6):\n",
    "        qc.h(ca[index])\n",
    "        \n",
    "    if SECOND_LOGICAL:\n",
    "        \n",
    "        for index in range (6):\n",
    "            qc.h(cc[index])\n",
    "\n",
    "        qc.cx(cc[0],cd[0])\n",
    "        qc.cx(cc[0],cd[3])\n",
    "        qc.cx(cc[0],cd[5])\n",
    "        qc.cx(cc[0],cd[6])\n",
    "\n",
    "        qc.cx(cc[1],cd[1])\n",
    "        qc.cx(cc[1],cd[3])\n",
    "        qc.cx(cc[1],cd[4])\n",
    "        qc.cx(cc[1],cd[6])    \n",
    "\n",
    "        qc.cx(cc[2],cd[2])\n",
    "        qc.cx(cc[2],cd[3])\n",
    "        qc.cx(cc[2],cd[4])\n",
    "        qc.cx(cc[2],cd[5])   \n",
    "\n",
    "        qc.cz(cc[3],cd[0])\n",
    "        qc.cz(cc[3],cd[2])\n",
    "        qc.cz(cc[3],cd[4])\n",
    "        qc.cz(cc[3],cd[6])\n",
    "\n",
    "        qc.cz(cc[4],cd[1])\n",
    "        qc.cz(cc[4],cd[2])\n",
    "        qc.cz(cc[4],cd[5])\n",
    "        qc.cz(cc[4],cd[6])\n",
    "\n",
    "        qc.cz(cc[5],cd[0])\n",
    "        qc.cz(cc[5],cd[1])\n",
    "        qc.cz(cc[5],cd[2])\n",
    "        qc.cz(cc[5],cd[3])\n",
    "\n",
    "        for index in range (6):\n",
    "            qc.h(cc[index])\n",
    "        \n",
    "    qc.barrier()"
   ]
  },
  {
   "cell_type": "markdown",
   "metadata": {},
   "source": [
    "If required the encoding circuit is run in reverse to get back to the original input."
   ]
  },
  {
   "cell_type": "code",
   "execution_count": 11,
   "metadata": {},
   "outputs": [],
   "source": [
    "if FIRST_REVERSE:\n",
    "    qc.cx(cb[2],cb[5])\n",
    "    qc.cx(cb[2],cb[4])\n",
    "    qc.cx(cb[2],cb[3])\n",
    "    qc.cx(cb[1],cb[6])\n",
    "    qc.cx(cb[1],cb[4])\n",
    "    qc.cx(cb[1],cb[3])\n",
    "    qc.cx(cb[0],cb[6])\n",
    "    qc.cx(cb[0],cb[5])\n",
    "    qc.cx(cb[0],cb[3])\n",
    "    qc.h(cb[2])\n",
    "    qc.h(cb[1])\n",
    "    qc.h(cb[0])\n",
    "    qc.cx(cb[6],cb[5])\n",
    "    qc.cx(cb[6],cb[4])"
   ]
  },
  {
   "cell_type": "code",
   "execution_count": 12,
   "metadata": {},
   "outputs": [],
   "source": [
    "if SECOND_REVERSE:   \n",
    "    qc.cx(cd[2],cd[5])\n",
    "    qc.cx(cd[2],cd[4])\n",
    "    qc.cx(cd[2],cd[3])\n",
    "    qc.cx(cd[1],cd[6])\n",
    "    qc.cx(cd[1],cd[4])\n",
    "    qc.cx(cd[1],cd[3])\n",
    "    qc.cx(cd[0],cd[6])\n",
    "    qc.cx(cd[0],cd[5])\n",
    "    qc.cx(cd[0],cd[3])\n",
    "    qc.h(cd[2])\n",
    "    qc.h(cd[1])\n",
    "    qc.h(cd[0])\n",
    "    qc.cx(cd[6],cd[5])\n",
    "    qc.cx(cd[6],cd[4])"
   ]
  },
  {
   "cell_type": "markdown",
   "metadata": {},
   "source": [
    "Define noise model in case needed:"
   ]
  },
  {
   "cell_type": "code",
   "execution_count": 13,
   "metadata": {},
   "outputs": [],
   "source": [
    "def get_noise(p_meas,p_gate):\n",
    "\n",
    "    error_meas = pauli_error([('X',p_meas), ('I', 1 - p_meas)])\n",
    "    error_gate1 = depolarizing_error(p_gate, 1)\n",
    "    error_gate2 = error_gate1.tensor(error_gate1)\n",
    "    error_gate3 = error_gate1.tensor(error_gate1)\n",
    "\n",
    "    noise_model = NoiseModel()\n",
    "    noise_model.add_all_qubit_quantum_error(error_meas, \"measure\") # measurement error is applied to measurements\n",
    "    noise_model.add_all_qubit_quantum_error(error_gate1, [\"h\"])  # single qubit gate error is applied to h gates\n",
    "    noise_model.add_all_qubit_quantum_error(error_gate2, [\"cx\"]) # two qubit gate error is applied to cx gates\n",
    "    noise_model.add_all_qubit_quantum_error(error_gate3, [\"cz\"]) # same two qubit gate error is applied to cz gates\n",
    "        \n",
    "    return noise_model"
   ]
  },
  {
   "cell_type": "markdown",
   "metadata": {},
   "source": [
    "Get noise model if needed:"
   ]
  },
  {
   "cell_type": "code",
   "execution_count": 14,
   "metadata": {},
   "outputs": [],
   "source": [
    "if NOISE:\n",
    "    noise_model = get_noise(MEASURE_NOISE,GATE_NOISE)"
   ]
  },
  {
   "cell_type": "markdown",
   "metadata": {},
   "source": [
    "The circuit executed"
   ]
  },
  {
   "cell_type": "code",
   "execution_count": 15,
   "metadata": {},
   "outputs": [],
   "source": [
    "# run the circuit with the noise model and extract the counts\n",
    "\n",
    "qc.barrier()\n",
    "\n",
    "qc.measure(range(13), range(13))\n",
    "#qc.measure(range(26), range(26))\n",
    "#qc.measure([0,1,2,3,4,5,6], [0,1,2,3,4,5,6])\n",
    "#qc.measure([7,8,9,10,11,12], [7,8,9,10,11,12])\n",
    "#qc.measure([13,14,15,16,17,18,19], [13,14,15,16,17,18,19])\n",
    "#qc.measure([20,21,22,23,24,25], [20,21,22,23,24,25])\n",
    "\n",
    "#Measurement noise\n",
    "if NOISE:\n",
    "    result = execute(qc, SIMULATOR, noise_model=noise_model, shots=SHOTS).result()\n",
    "else:\n",
    "    result = execute(qc, SIMULATOR, shots=SHOTS).result()"
   ]
  },
  {
   "cell_type": "markdown",
   "metadata": {},
   "source": [
    "Finally we print out the results."
   ]
  },
  {
   "cell_type": "code",
   "execution_count": 16,
   "metadata": {},
   "outputs": [
    {
     "name": "stdout",
     "output_type": "stream",
     "text": [
      "The different states can be counted.  The simulated result are {'000000 0000000': 109, '000000 0110011': 127, '000000 0111100': 128, '000000 1010101': 144, '000000 1011010': 147, '000000 1100110': 111, '000000 1101001': 110, '000000 0001111': 124}\n"
     ]
    }
   ],
   "source": [
    "counts = result.get_counts(qc)\n",
    "print ('The different states can be counted.  The simulated result are', counts)"
   ]
  },
  {
   "cell_type": "markdown",
   "metadata": {},
   "source": [
    "Results are above. The circuit is below"
   ]
  },
  {
   "cell_type": "code",
   "execution_count": 17,
   "metadata": {},
   "outputs": [
    {
     "data": {
      "image/png": "[encoded data removed]",
      "text/plain": [
       "<Figure size 1758.61x927.08 with 1 Axes>"
      ]
     },
     "execution_count": 17,
     "metadata": {},
     "output_type": "execute_result"
    }
   ],
   "source": [
    "qc.draw(output='mpl', filename = 'two_qubits.jpg')\n",
    "#qc.draw(output='text')"
   ]
  }
 ],
 "metadata": {
  "kernelspec": {
   "display_name": "Python 3",
   "language": "python",
   "name": "python3"
  },
  "language_info": {
   "codemirror_mode": {
    "name": "ipython",
    "version": 3
   },
   "file_extension": ".py",
   "mimetype": "text/x-python",
   "name": "python",
   "nbconvert_exporter": "python",
   "pygments_lexer": "ipython3",
   "version": "3.8.3"
  }
 },
 "nbformat": 4,
 "nbformat_minor": 4
}
